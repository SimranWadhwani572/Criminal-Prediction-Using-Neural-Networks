{
 "cells": [
  {
   "cell_type": "markdown",
   "metadata": {},
   "source": [
    "## CRIMINAL PREDICTION ##\n",
    "\n",
    "**BY- Swastik Mahapatra**\n",
    "**email- swastik.mhptr@gmail.com**"
   ]
  },
  {
   "cell_type": "markdown",
   "metadata": {
    "colab_type": "text",
    "id": "ssYTWt5PR5_4"
   },
   "source": [
    "## Model To Classify Whether The Given Person is a Criminal of Not##"
   ]
  },
  {
   "cell_type": "markdown",
   "metadata": {
    "colab_type": "text",
    "id": "YR_NAo_S4rmz"
   },
   "source": [
    "**Libraries used:-**\n",
    "- numpy is the fundamental package for scientific computing with Python.\n",
    "- h5py is a common package to interact with a dataset that is stored on an H5 file.\n",
    "- matplotlib is a famous library to plot graphs in Python.\n",
    "\n"
   ]
  },
  {
   "cell_type": "code",
   "execution_count": 0,
   "metadata": {
    "colab": {
     "autoexec": {
      "startup": false,
      "wait_interval": 0
     }
    },
    "colab_type": "code",
    "collapsed": true,
    "id": "G6bVIiWIR5_7"
   },
   "outputs": [],
   "source": [
    "import numpy as np\n",
    "import matplotlib.pyplot as plt\n",
    "import scipy\n",
    "import math\n",
    "\n",
    "%matplotlib inline"
   ]
  },
  {
   "cell_type": "markdown",
   "metadata": {
    "colab_type": "text",
    "id": "m2y4XWMz5Llu"
   },
   "source": [
    "**Loading the Tran set data into the notebook**"
   ]
  },
  {
   "cell_type": "code",
   "execution_count": 7,
   "metadata": {
    "colab": {
     "autoexec": {
      "startup": false,
      "wait_interval": 0
     },
     "base_uri": "https://localhost:8080/",
     "height": 3300,
     "output_extras": [
      {
       "item_id": 1
      }
     ]
    },
    "colab_type": "code",
    "executionInfo": {
     "elapsed": 5262,
     "status": "ok",
     "timestamp": 1522336200198,
     "user": {
      "displayName": "Swastik Mahapatra",
      "photoUrl": "//lh4.googleusercontent.com/-bEYP3sOqCzo/AAAAAAAAAAI/AAAAAAAAAGo/k-AdGrDtfQM/s50-c-k-no/photo.jpg",
      "userId": "108795235609199328859"
     },
     "user_tz": -330
    },
    "id": "1j2wIg-MwYjf",
    "outputId": "db08d3ab-ea02-48b3-869c-e2f0b7aa3e52"
   },
   "outputs": [
    {
     "name": "stdout",
     "output_type": "stream",
     "text": [
      "       IFATHER  NRCH17_2  IRHHSIZ2  IIHHSIZ2  IRKI17_2  IIKI17_2  IRHH65_2  \\\n",
      "0            4         1         2         1         2         1         1   \n",
      "1            4         0         1         1         1         1         1   \n",
      "2            4         2         3         1         3         1         1   \n",
      "3            4         0         4         1         1         1         1   \n",
      "4            1         0         4         1         3         1         1   \n",
      "5            4         0         2         1         1         1         1   \n",
      "6            1         0         4         1         2         1         1   \n",
      "7            1         0         5         1         3         1         1   \n",
      "8            4         0         4         1         1         1         1   \n",
      "9            4         0         1         1         1         1         1   \n",
      "10           4         1         3         1         2         1         1   \n",
      "11           2         0         3         1         3         1         1   \n",
      "12           4         0         3         1         1         1         2   \n",
      "13           4         0         1         1         1         1         1   \n",
      "14           4         0         2         1         1         1         3   \n",
      "15           4         0         4         1         1         1         1   \n",
      "16           4         3         5         1         4         1         1   \n",
      "17           4         0         3         1         2         1         1   \n",
      "18           1         0         5         1         3         1         1   \n",
      "19           4         0         2         1         1         1         1   \n",
      "20           4         1         5         1         2         1         1   \n",
      "21           4         3         5         1         4         1         1   \n",
      "22           4         0         3         1         1         1         1   \n",
      "23           4         1         3         1         2         1         1   \n",
      "24           4         0         3         1         2         1         1   \n",
      "25           4         0         2         1         1         1         3   \n",
      "26           4         0         3         1         1         1         1   \n",
      "27           1         0         3         1         2         1         1   \n",
      "28           4         0         2         1         1         1         1   \n",
      "29           4         1         3         1         2         1         1   \n",
      "...        ...       ...       ...       ...       ...       ...       ...   \n",
      "45688        4         2         4         1         3         1         1   \n",
      "45689        4         3         5         1         4         1         1   \n",
      "45690        1         0         6         1         3         1         2   \n",
      "45691        4         1         3         1         2         1         1   \n",
      "45692        4         3         6         1         4         1         1   \n",
      "45693        4         0         2         1         1         1         1   \n",
      "45694        4         0         2         1         1         1         3   \n",
      "45695        4         3         5         1         4         1         2   \n",
      "45696        4         1         3         1         2         1         1   \n",
      "45697        4         2         4         1         3         1         1   \n",
      "45698        4         1         3         1         2         1         1   \n",
      "45699        4         0         2         1         1         1         1   \n",
      "45700        4         0         2         1         1         1         1   \n",
      "45701        4         3         5         1         4         1         1   \n",
      "45702        4         1         3         1         2         1         1   \n",
      "45703        4         3         5         1         4         1         1   \n",
      "45704        4         0         3         1         1         1         3   \n",
      "45705        4         0         1         1         1         1         1   \n",
      "45706        2         0         2         1         2         1         1   \n",
      "45707        4         0         2         1         1         1         1   \n",
      "45708        4         0         2         1         1         1         1   \n",
      "45709        4         0         2         1         1         1         3   \n",
      "45710        1         0         5         1         4         1         1   \n",
      "45711        1         0         3         1         2         1         1   \n",
      "45712        4         2         4         1         3         1         1   \n",
      "45713        4         2         4         1         3         1         1   \n",
      "45714        4         0         4         1         1         1         1   \n",
      "45715        1         0         3         1         2         1         1   \n",
      "45716        4         0         4         1         2         1         1   \n",
      "45717        4         1         3         1         2         1         1   \n",
      "\n",
      "       IIHH65_2  PRXRETRY  PRXYDATA    ...     TOOLONG  TROUBUND  PDEN10  \\\n",
      "0             1        99        99    ...           2         2       2   \n",
      "1             1        99        99    ...           2         2       1   \n",
      "2             1        99        99    ...           2         2       2   \n",
      "3             1        99        99    ...           2         2       1   \n",
      "4             1        99         1    ...           2         2       2   \n",
      "5             1        99        99    ...           2         2       1   \n",
      "6             1        99         1    ...           1         1       1   \n",
      "7             1        99         1    ...           2         2       1   \n",
      "8             1         2        99    ...           2         2       2   \n",
      "9             1        99        99    ...           2         2       2   \n",
      "10            1        99        99    ...           2         2       1   \n",
      "11            1        99         1    ...           2         2       2   \n",
      "12            1        99         1    ...           2         2       1   \n",
      "13            1        99        99    ...           1         2       1   \n",
      "14            1        99        99    ...           2         2       3   \n",
      "15            1        99         1    ...           2         2       2   \n",
      "16            1        99        99    ...           2         2       2   \n",
      "17            1        99         1    ...           2         2       1   \n",
      "18            1        99         1    ...           2         2       2   \n",
      "19            1        99        99    ...           2         2       2   \n",
      "20            1        99        99    ...           2         2       2   \n",
      "21            1        99        99    ...           2         2       2   \n",
      "22            1        99         1    ...           2         2       1   \n",
      "23            1        99        99    ...           1         2       1   \n",
      "24            1        99        99    ...           2         2       2   \n",
      "25            1        99         1    ...           1         2       2   \n",
      "26            1        99        99    ...           2         1       3   \n",
      "27            1        99         1    ...           2         2       2   \n",
      "28            1        99        99    ...           2         2       1   \n",
      "29            1        99        99    ...           2         2       1   \n",
      "...         ...       ...       ...    ...         ...       ...     ...   \n",
      "45688         1        99        99    ...           2         2       2   \n",
      "45689         1        99        99    ...           2         2       2   \n",
      "45690         1        99         1    ...           2         2       2   \n",
      "45691         1        99        99    ...           2         2       2   \n",
      "45692         1        99        99    ...           2         2       2   \n",
      "45693         1        99        99    ...           2         2       2   \n",
      "45694         1        99        99    ...           2         2       1   \n",
      "45695         1        99        99    ...           2         2       3   \n",
      "45696         1        99        99    ...           2         2       2   \n",
      "45697         1        99        99    ...           2         2       1   \n",
      "45698         1        99        99    ...           2         2       2   \n",
      "45699         1        99        99    ...           2         2       2   \n",
      "45700         1        99        99    ...           2         2       2   \n",
      "45701         1        99        99    ...           2         2       2   \n",
      "45702         1        99        99    ...           2         2       1   \n",
      "45703         1        99         1    ...           2         2       2   \n",
      "45704         1        99         1    ...           2         2       1   \n",
      "45705         1        99        99    ...           2         2       2   \n",
      "45706         1        99         1    ...           2         2       2   \n",
      "45707         1        99        99    ...           2         2       2   \n",
      "45708         1        99        99    ...           2         2       2   \n",
      "45709         1        99         1    ...           1         2       1   \n",
      "45710         1        99         1    ...           2         2       1   \n",
      "45711         1         2        99    ...           2         2       1   \n",
      "45712         1        99        99    ...           2         2       1   \n",
      "45713         1        99        99    ...           2         2       2   \n",
      "45714         1        99        99    ...           2         2       1   \n",
      "45715         1        99         1    ...           2         2       2   \n",
      "45716         1         2        99    ...           2         2       1   \n",
      "45717         1        99        99    ...           2         2       2   \n",
      "\n",
      "       COUTYP2  MAIIN102  AIIND102      ANALWT_C  VESTR  VEREP  Criminal  \n",
      "0            2         2         2   2509.876664  40035      2         0  \n",
      "1            1         2         2   3857.969335  40003      1         0  \n",
      "2            2         2         2   2047.097584  40038      1         0  \n",
      "3            1         2         2   6781.590090  40020      2         0  \n",
      "4            3         2         2    719.026351  40007      1         0  \n",
      "5            1         2         2   3124.584767  40008      2         0  \n",
      "6            1         2         2   6821.744768  40016      2         0  \n",
      "7            1         2         2   3930.058914  40015      1         0  \n",
      "8            3         2         2   4044.494963  40004      2         0  \n",
      "9            2         2         2    296.097568  40044      2         0  \n",
      "10           1         2         2   8492.564510  40035      1         0  \n",
      "11           3         2         2    809.246027  40046      1         0  \n",
      "12           1         2         2   3670.819161  40021      1         0  \n",
      "13           1         2         2   1243.359773  40047      1         0  \n",
      "14           3         2         2   4264.560820  40038      1         1  \n",
      "15           2         2         2    423.284522  40044      1         0  \n",
      "16           2         2         2   1414.443916  40036      1         0  \n",
      "17           1         2         2   1528.635809  40009      2         0  \n",
      "18           2         2         2    509.797948  40032      2         0  \n",
      "19           3         2         2   5302.366550  40050      1         0  \n",
      "20           3         2         2    409.761948  40044      1         0  \n",
      "21           2         2         2   4678.735921  40020      1         0  \n",
      "22           1         2         2   2843.119446  40031      2         0  \n",
      "23           2         2         2   5165.871451  40002      2         0  \n",
      "24           3         2         2   2738.500960  40021      2         0  \n",
      "25           2         2         2   4165.432689  40001      2         0  \n",
      "26           3         2         2    243.145168  40034      1         0  \n",
      "27           2         2         2    971.986926  40032      1         0  \n",
      "28           1         2         2    702.283454  40007      2         0  \n",
      "29           1         2         2   7778.965401  40026      2         0  \n",
      "...        ...       ...       ...           ...    ...    ...       ...  \n",
      "45688        2         2         2   1033.384210  40043      2         0  \n",
      "45689        3         2         2    741.883212  40036      1         0  \n",
      "45690        2         2         2   2644.758741  40033      2         0  \n",
      "45691        3         2         2   1470.989965  40037      1         0  \n",
      "45692        3         2         2   2722.726597  40049      1         0  \n",
      "45693        2         2         2    896.268439  40024      2         0  \n",
      "45694        1         2         2  35153.600080  40016      1         0  \n",
      "45695        3         2         2   2523.482649  40033      2         0  \n",
      "45696        2         2         2   5853.230523  40001      2         0  \n",
      "45697        1         2         2   6129.863933  40021      1         0  \n",
      "45698        2         2         2   8113.507940  40006      2         0  \n",
      "45699        2         2         2    664.894983  40043      1         0  \n",
      "45700        2         2         2   2162.502541  40046      1         0  \n",
      "45701        2         2         2   4256.359841  40005      2         0  \n",
      "45702        2         2         2   2137.119854  40013      2         0  \n",
      "45703        2         2         2  10371.385370  40010      2         0  \n",
      "45704        1         2         2  12894.542300  40019      2         1  \n",
      "45705        2         2         2    231.723819  40015      2         0  \n",
      "45706        2         2         2    417.238644  40024      1         0  \n",
      "45707        2         2         2   1412.047740  40002      2         0  \n",
      "45708        2         2         2   3222.151785  40032      1         1  \n",
      "45709        1         2         2  37487.747770  40009      1         0  \n",
      "45710        1         2         2   1227.748963  40001      1         0  \n",
      "45711        1         2         2   2841.248370  40001      1         0  \n",
      "45712        1         2         2  20354.795400  40050      2         0  \n",
      "45713        2         2         2   2111.836849  40031      2         0  \n",
      "45714        1         2         2   1430.775142  40045      2         0  \n",
      "45715        2         2         2    512.671234  40023      2         0  \n",
      "45716        1         2         2    462.459704  40015      2         0  \n",
      "45717        3         2         2   1523.810872  40034      2         0  \n",
      "\n",
      "[45718 rows x 71 columns]\n"
     ]
    }
   ],
   "source": [
    "import pandas as pd\n",
    "import io\n",
    "d1 = pd.read_csv(\"data/criminal_train.csv\")\n",
    "print(d1)"
   ]
  },
  {
   "cell_type": "markdown",
   "metadata": {
    "colab_type": "text",
    "id": "ElbVyGds5A34"
   },
   "source": [
    "**Splitting the data into required Train and Validation datasets**"
   ]
  },
  {
   "cell_type": "code",
   "execution_count": 0,
   "metadata": {
    "colab": {
     "autoexec": {
      "startup": false,
      "wait_interval": 0
     }
    },
    "colab_type": "code",
    "collapsed": true,
    "id": "E74kWO7KzCNm"
   },
   "outputs": [],
   "source": [
    "t = np.zeros((45718,71))\n",
    "t[:] = d1[:]\n",
    "\n",
    "split = 5000\n",
    "df = t[:split,:]\n",
    "dt = t[split:,:]"
   ]
  },
  {
   "cell_type": "code",
   "execution_count": 9,
   "metadata": {
    "colab": {
     "autoexec": {
      "startup": false,
      "wait_interval": 0
     },
     "base_uri": "https://localhost:8080/",
     "height": 138,
     "output_extras": [
      {
       "item_id": 1
      }
     ]
    },
    "colab_type": "code",
    "executionInfo": {
     "elapsed": 813,
     "status": "ok",
     "timestamp": 1522336202163,
     "user": {
      "displayName": "Swastik Mahapatra",
      "photoUrl": "//lh4.googleusercontent.com/-bEYP3sOqCzo/AAAAAAAAAAI/AAAAAAAAAGo/k-AdGrDtfQM/s50-c-k-no/photo.jpg",
      "userId": "108795235609199328859"
     },
     "user_tz": -330
    },
    "id": "g90M_w0C0FnE",
    "outputId": "a817af49-bbce-4ee1-b002-0a3f5e703ce9"
   },
   "outputs": [
    {
     "name": "stdout",
     "output_type": "stream",
     "text": [
      "[[2.0000e+00 0.0000e+00 3.0000e+00 ... 4.0038e+04 2.0000e+00 0.0000e+00]\n",
      " [4.0000e+00 2.0000e+00 4.0000e+00 ... 4.0015e+04 1.0000e+00 0.0000e+00]\n",
      " [4.0000e+00 0.0000e+00 2.0000e+00 ... 4.0030e+04 2.0000e+00 0.0000e+00]\n",
      " ...\n",
      " [1.0000e+00 0.0000e+00 3.0000e+00 ... 4.0023e+04 2.0000e+00 0.0000e+00]\n",
      " [4.0000e+00 0.0000e+00 4.0000e+00 ... 4.0015e+04 2.0000e+00 0.0000e+00]\n",
      " [4.0000e+00 1.0000e+00 3.0000e+00 ... 4.0034e+04 2.0000e+00 0.0000e+00]]\n"
     ]
    }
   ],
   "source": [
    "train = np.zeros((40718,71))\n",
    "train[:] = dt[:]\n",
    "print(train)"
   ]
  },
  {
   "cell_type": "code",
   "execution_count": 10,
   "metadata": {
    "colab": {
     "autoexec": {
      "startup": false,
      "wait_interval": 0
     },
     "base_uri": "https://localhost:8080/",
     "height": 138,
     "output_extras": [
      {
       "item_id": 1
      }
     ]
    },
    "colab_type": "code",
    "executionInfo": {
     "elapsed": 641,
     "status": "ok",
     "timestamp": 1522336202996,
     "user": {
      "displayName": "Swastik Mahapatra",
      "photoUrl": "//lh4.googleusercontent.com/-bEYP3sOqCzo/AAAAAAAAAAI/AAAAAAAAAGo/k-AdGrDtfQM/s50-c-k-no/photo.jpg",
      "userId": "108795235609199328859"
     },
     "user_tz": -330
    },
    "id": "sjGpJIeV0Fwy",
    "outputId": "3309281f-5249-45e0-c9b1-2dbd5d6f3a96"
   },
   "outputs": [
    {
     "name": "stdout",
     "output_type": "stream",
     "text": [
      "[[4.0000e+00 1.0000e+00 2.0000e+00 ... 4.0035e+04 2.0000e+00 0.0000e+00]\n",
      " [4.0000e+00 0.0000e+00 1.0000e+00 ... 4.0003e+04 1.0000e+00 0.0000e+00]\n",
      " [4.0000e+00 2.0000e+00 3.0000e+00 ... 4.0038e+04 1.0000e+00 0.0000e+00]\n",
      " ...\n",
      " [4.0000e+00 0.0000e+00 2.0000e+00 ... 4.0022e+04 2.0000e+00 0.0000e+00]\n",
      " [4.0000e+00 0.0000e+00 2.0000e+00 ... 4.0017e+04 1.0000e+00 0.0000e+00]\n",
      " [2.0000e+00 0.0000e+00 3.0000e+00 ... 4.0010e+04 1.0000e+00 0.0000e+00]]\n"
     ]
    }
   ],
   "source": [
    "test = np.zeros((5000,71))\n",
    "test[:] = df[:]\n",
    "print(test)"
   ]
  },
  {
   "cell_type": "code",
   "execution_count": 11,
   "metadata": {
    "colab": {
     "autoexec": {
      "startup": false,
      "wait_interval": 0
     },
     "base_uri": "https://localhost:8080/",
     "height": 34,
     "output_extras": [
      {
       "item_id": 1
      }
     ]
    },
    "colab_type": "code",
    "executionInfo": {
     "elapsed": 746,
     "status": "ok",
     "timestamp": 1522336203921,
     "user": {
      "displayName": "Swastik Mahapatra",
      "photoUrl": "//lh4.googleusercontent.com/-bEYP3sOqCzo/AAAAAAAAAAI/AAAAAAAAAGo/k-AdGrDtfQM/s50-c-k-no/photo.jpg",
      "userId": "108795235609199328859"
     },
     "user_tz": -330
    },
    "id": "Z0s7nbiM03NP",
    "outputId": "8211a258-688c-4e86-abde-79703f0a98e9"
   },
   "outputs": [
    {
     "name": "stdout",
     "output_type": "stream",
     "text": [
      "test(5000, 71)\n"
     ]
    }
   ],
   "source": [
    "print(\"test\"+ str(df.shape))"
   ]
  },
  {
   "cell_type": "markdown",
   "metadata": {},
   "source": [
    "**Separating the \"Criminal\" column into a separate dataset as Output**"
   ]
  },
  {
   "cell_type": "code",
   "execution_count": 12,
   "metadata": {
    "colab": {
     "autoexec": {
      "startup": false,
      "wait_interval": 0
     },
     "base_uri": "https://localhost:8080/",
     "height": 138,
     "output_extras": [
      {
       "item_id": 1
      }
     ]
    },
    "colab_type": "code",
    "executionInfo": {
     "elapsed": 664,
     "status": "ok",
     "timestamp": 1522336204939,
     "user": {
      "displayName": "Swastik Mahapatra",
      "photoUrl": "//lh4.googleusercontent.com/-bEYP3sOqCzo/AAAAAAAAAAI/AAAAAAAAAGo/k-AdGrDtfQM/s50-c-k-no/photo.jpg",
      "userId": "108795235609199328859"
     },
     "user_tz": -330
    },
    "id": "8XRgafFG03Xw",
    "outputId": "94f59f29-1a26-4acb-826e-02aba735656f"
   },
   "outputs": [
    {
     "name": "stdout",
     "output_type": "stream",
     "text": [
      "[[0.]\n",
      " [0.]\n",
      " [0.]\n",
      " ...\n",
      " [0.]\n",
      " [0.]\n",
      " [0.]]\n"
     ]
    }
   ],
   "source": [
    "Y_test = np.zeros((5000,1))\n",
    "\n",
    "Y_test[:] = test[:,[70]]\n",
    "print(Y_test)"
   ]
  },
  {
   "cell_type": "code",
   "execution_count": 13,
   "metadata": {
    "colab": {
     "autoexec": {
      "startup": false,
      "wait_interval": 0
     },
     "base_uri": "https://localhost:8080/",
     "height": 138,
     "output_extras": [
      {
       "item_id": 1
      }
     ]
    },
    "colab_type": "code",
    "executionInfo": {
     "elapsed": 661,
     "status": "ok",
     "timestamp": 1522336205803,
     "user": {
      "displayName": "Swastik Mahapatra",
      "photoUrl": "//lh4.googleusercontent.com/-bEYP3sOqCzo/AAAAAAAAAAI/AAAAAAAAAGo/k-AdGrDtfQM/s50-c-k-no/photo.jpg",
      "userId": "108795235609199328859"
     },
     "user_tz": -330
    },
    "id": "JwbhfXOi03fk",
    "outputId": "8937a011-66c0-4119-ddaf-40c63352e0c0"
   },
   "outputs": [
    {
     "name": "stdout",
     "output_type": "stream",
     "text": [
      "[[0.]\n",
      " [0.]\n",
      " [0.]\n",
      " ...\n",
      " [0.]\n",
      " [0.]\n",
      " [0.]]\n"
     ]
    }
   ],
   "source": [
    "Y_train = np.zeros((40718,1))\n",
    "\n",
    "Y_train[:] = train[:,[70]]\n",
    "print(Y_train)"
   ]
  },
  {
   "cell_type": "code",
   "execution_count": 0,
   "metadata": {
    "colab": {
     "autoexec": {
      "startup": false,
      "wait_interval": 0
     }
    },
    "colab_type": "code",
    "collapsed": true,
    "id": "m7YE91ax03l0"
   },
   "outputs": [],
   "source": [
    "X_test = np.zeros((5000,70))\n",
    "X_train = np.zeros((40718,70))\n",
    "\n",
    "X_test = np.delete(test,70,axis=1)\n",
    "X_train = np.delete(train,70,axis=1)\n"
   ]
  },
  {
   "cell_type": "code",
   "execution_count": 15,
   "metadata": {
    "colab": {
     "autoexec": {
      "startup": false,
      "wait_interval": 0
     },
     "base_uri": "https://localhost:8080/",
     "height": 501,
     "output_extras": [
      {
       "item_id": 1
      }
     ]
    },
    "colab_type": "code",
    "executionInfo": {
     "elapsed": 722,
     "status": "ok",
     "timestamp": 1522336207546,
     "user": {
      "displayName": "Swastik Mahapatra",
      "photoUrl": "//lh4.googleusercontent.com/-bEYP3sOqCzo/AAAAAAAAAAI/AAAAAAAAAGo/k-AdGrDtfQM/s50-c-k-no/photo.jpg",
      "userId": "108795235609199328859"
     },
     "user_tz": -330
    },
    "id": "D5lUD6aQ1c-Q",
    "outputId": "2bdf7414-fada-43d3-8f9f-fcba41afed0c"
   },
   "outputs": [
    {
     "name": "stdout",
     "output_type": "stream",
     "text": [
      "[[4.00000000e+00 1.00000000e+00 2.00000000e+00 ... 2.50987666e+03\n",
      "  4.00350000e+04 2.00000000e+00]\n",
      " [4.00000000e+00 0.00000000e+00 1.00000000e+00 ... 3.85796934e+03\n",
      "  4.00030000e+04 1.00000000e+00]\n",
      " [4.00000000e+00 2.00000000e+00 3.00000000e+00 ... 2.04709758e+03\n",
      "  4.00380000e+04 1.00000000e+00]\n",
      " ...\n",
      " [4.00000000e+00 0.00000000e+00 2.00000000e+00 ... 1.12758566e+04\n",
      "  4.00220000e+04 2.00000000e+00]\n",
      " [4.00000000e+00 0.00000000e+00 2.00000000e+00 ... 1.78414132e+03\n",
      "  4.00170000e+04 1.00000000e+00]\n",
      " [2.00000000e+00 0.00000000e+00 3.00000000e+00 ... 1.34965244e+03\n",
      "  4.00100000e+04 1.00000000e+00]]\n",
      "test:(5000, 70)\n",
      "[[2.00000000e+00 0.00000000e+00 3.00000000e+00 ... 2.32875785e+02\n",
      "  4.00380000e+04 2.00000000e+00]\n",
      " [4.00000000e+00 2.00000000e+00 4.00000000e+00 ... 7.35768196e+03\n",
      "  4.00150000e+04 1.00000000e+00]\n",
      " [4.00000000e+00 0.00000000e+00 2.00000000e+00 ... 5.32077248e+03\n",
      "  4.00300000e+04 2.00000000e+00]\n",
      " ...\n",
      " [1.00000000e+00 0.00000000e+00 3.00000000e+00 ... 5.12671234e+02\n",
      "  4.00230000e+04 2.00000000e+00]\n",
      " [4.00000000e+00 0.00000000e+00 4.00000000e+00 ... 4.62459704e+02\n",
      "  4.00150000e+04 2.00000000e+00]\n",
      " [4.00000000e+00 1.00000000e+00 3.00000000e+00 ... 1.52381087e+03\n",
      "  4.00340000e+04 2.00000000e+00]]\n",
      "Train:(40718, 70)\n"
     ]
    }
   ],
   "source": [
    "print(X_test)\n",
    "print(\"test:\"+ str(X_test.shape))\n",
    "print(X_train)\n",
    "print(\"Train:\"+ str(X_train.shape))"
   ]
  },
  {
   "cell_type": "markdown",
   "metadata": {},
   "source": [
    "**Setting the final datasets**"
   ]
  },
  {
   "cell_type": "code",
   "execution_count": 0,
   "metadata": {
    "colab": {
     "autoexec": {
      "startup": false,
      "wait_interval": 0
     }
    },
    "colab_type": "code",
    "collapsed": true,
    "id": "gEM6zq9t1dKc"
   },
   "outputs": [],
   "source": [
    "\n",
    "X_train_final = np.zeros((70,40718))\n",
    "X_test_final = np.zeros((70,5000))\n",
    "Y_train_final = np.zeros((1,40718))\n",
    "Y_test_final = np.zeros((1,5000))\n",
    "\n",
    "X_train_final = np.transpose(X_train)\n",
    "X_test_final = np.transpose(X_test)\n",
    "Y_train_final = np.transpose(Y_train)\n",
    "Y_test_final = np.transpose(Y_test)"
   ]
  },
  {
   "cell_type": "code",
   "execution_count": 17,
   "metadata": {
    "colab": {
     "autoexec": {
      "startup": false,
      "wait_interval": 0
     },
     "base_uri": "https://localhost:8080/",
     "height": 241,
     "output_extras": [
      {
       "item_id": 1
      }
     ]
    },
    "colab_type": "code",
    "executionInfo": {
     "elapsed": 947,
     "status": "ok",
     "timestamp": 1522336209425,
     "user": {
      "displayName": "Swastik Mahapatra",
      "photoUrl": "//lh4.googleusercontent.com/-bEYP3sOqCzo/AAAAAAAAAAI/AAAAAAAAAGo/k-AdGrDtfQM/s50-c-k-no/photo.jpg",
      "userId": "108795235609199328859"
     },
     "user_tz": -330
    },
    "id": "L19Rh_wgO3a9",
    "outputId": "af51d898-5eb9-4435-8b15-8f6a78865672"
   },
   "outputs": [
    {
     "name": "stdout",
     "output_type": "stream",
     "text": [
      "[[2.00000000e+00 4.00000000e+00 4.00000000e+00 ... 1.00000000e+00\n",
      "  4.00000000e+00 4.00000000e+00]\n",
      " [0.00000000e+00 2.00000000e+00 0.00000000e+00 ... 0.00000000e+00\n",
      "  0.00000000e+00 1.00000000e+00]\n",
      " [3.00000000e+00 4.00000000e+00 2.00000000e+00 ... 3.00000000e+00\n",
      "  4.00000000e+00 3.00000000e+00]\n",
      " ...\n",
      " [2.32875785e+02 7.35768196e+03 5.32077248e+03 ... 5.12671234e+02\n",
      "  4.62459704e+02 1.52381087e+03]\n",
      " [4.00380000e+04 4.00150000e+04 4.00300000e+04 ... 4.00230000e+04\n",
      "  4.00150000e+04 4.00340000e+04]\n",
      " [2.00000000e+00 1.00000000e+00 2.00000000e+00 ... 2.00000000e+00\n",
      "  2.00000000e+00 2.00000000e+00]]\n"
     ]
    }
   ],
   "source": [
    "print(X_train_final[:][:])"
   ]
  },
  {
   "cell_type": "markdown",
   "metadata": {},
   "source": [
    "**NORMALISING the training and Validation data**"
   ]
  },
  {
   "cell_type": "code",
   "execution_count": 18,
   "metadata": {
    "colab": {
     "autoexec": {
      "startup": false,
      "wait_interval": 0
     },
     "base_uri": "https://localhost:8080/",
     "height": 1244,
     "output_extras": [
      {
       "item_id": 1
      }
     ]
    },
    "colab_type": "code",
    "executionInfo": {
     "elapsed": 913,
     "status": "ok",
     "timestamp": 1522336210486,
     "user": {
      "displayName": "Swastik Mahapatra",
      "photoUrl": "//lh4.googleusercontent.com/-bEYP3sOqCzo/AAAAAAAAAAI/AAAAAAAAAGo/k-AdGrDtfQM/s50-c-k-no/photo.jpg",
      "userId": "108795235609199328859"
     },
     "user_tz": -330
    },
    "id": "Q8ZPyZew1dTU",
    "outputId": "865c8df9-736f-4a42-a182-b57970e1168b"
   },
   "outputs": [
    {
     "name": "stdout",
     "output_type": "stream",
     "text": [
      "40718\n",
      "[[3.35338180e+00]\n",
      " [4.73353308e-01]\n",
      " [3.42521735e+00]\n",
      " [1.00162090e+00]\n",
      " [2.08310821e+00]\n",
      " [1.00702392e+00]\n",
      " [1.16329387e+00]\n",
      " [1.01085515e+00]\n",
      " [9.73414706e+01]\n",
      " [7.07639373e+01]\n",
      " [2.35362739e+00]\n",
      " [2.61442114e+00]\n",
      " [2.20086939e+00]\n",
      " [2.02485387e+00]\n",
      " [3.95336215e+01]\n",
      " [8.61279041e+01]\n",
      " [1.28036741e+01]\n",
      " [9.23097893e+01]\n",
      " [8.93534555e+01]\n",
      " [9.13251633e+01]\n",
      " [9.71275112e+01]\n",
      " [9.71609116e+01]\n",
      " [9.71723316e+01]\n",
      " [9.71551402e+01]\n",
      " [9.71607888e+01]\n",
      " [1.77174714e+00]\n",
      " [1.01827202e+00]\n",
      " [1.91649885e+00]\n",
      " [1.00933248e+00]\n",
      " [1.96124564e+00]\n",
      " [1.00505919e+00]\n",
      " [1.38744536e+00]\n",
      " [1.01360578e+00]\n",
      " [8.58300260e+01]\n",
      " [7.88702785e+00]\n",
      " [9.79784616e+01]\n",
      " [9.79784616e+01]\n",
      " [1.94623999e+00]\n",
      " [1.10351687e+00]\n",
      " [1.01792819e+00]\n",
      " [1.85473255e+00]\n",
      " [1.73004568e+00]\n",
      " [1.13878383e+00]\n",
      " [1.83781129e+00]\n",
      " [1.01900879e+00]\n",
      " [1.93113611e+00]\n",
      " [1.01891056e+00]\n",
      " [1.80045680e+00]\n",
      " [1.00992190e+00]\n",
      " [1.97291124e+00]\n",
      " [1.01468638e+00]\n",
      " [1.96350508e+00]\n",
      " [1.01119898e+00]\n",
      " [9.40897146e+01]\n",
      " [8.52168574e+00]\n",
      " [2.57583870e+00]\n",
      " [4.74834226e+00]\n",
      " [1.06075937e+00]\n",
      " [1.19445945e+00]\n",
      " [1.76248833e+00]\n",
      " [2.33741834e+00]\n",
      " [2.21066850e+00]\n",
      " [2.22564959e+00]\n",
      " [1.64629893e+00]\n",
      " [1.76371629e+00]\n",
      " [1.97910015e+00]\n",
      " [1.97892824e+00]\n",
      " [4.68517114e+03]\n",
      " [4.00235263e+04]\n",
      " [1.49479346e+00]]\n"
     ]
    }
   ],
   "source": [
    "mtr = X_train_final.shape[1]\n",
    "print(mtr)\n",
    "utr = np.sum(X_train_final,axis=1,keepdims=True)/mtr\n",
    "print(utr)"
   ]
  },
  {
   "cell_type": "code",
   "execution_count": 0,
   "metadata": {
    "colab": {
     "autoexec": {
      "startup": false,
      "wait_interval": 0
     }
    },
    "colab_type": "code",
    "collapsed": true,
    "id": "yqDS4cDp1diK"
   },
   "outputs": [],
   "source": [
    "train_set_x = X_train_final - utr\n",
    "test_set_x = X_test_final - utr"
   ]
  },
  {
   "cell_type": "code",
   "execution_count": 0,
   "metadata": {
    "colab": {
     "autoexec": {
      "startup": false,
      "wait_interval": 0
     }
    },
    "colab_type": "code",
    "collapsed": true,
    "id": "wVlbc9X_6Vh-"
   },
   "outputs": [],
   "source": [
    "norm = (np.sum(np.square(train_set_x),axis=1,keepdims=True))/mtr\n",
    "\n",
    "train_set_x = train_set_x / norm\n",
    "test_set_x = test_set_x / norm"
   ]
  },
  {
   "cell_type": "code",
   "execution_count": 21,
   "metadata": {
    "colab": {
     "autoexec": {
      "startup": false,
      "wait_interval": 0
     },
     "base_uri": "https://localhost:8080/",
     "height": 501,
     "output_extras": [
      {
       "item_id": 1
      }
     ]
    },
    "colab_type": "code",
    "executionInfo": {
     "elapsed": 774,
     "status": "ok",
     "timestamp": 1522336213065,
     "user": {
      "displayName": "Swastik Mahapatra",
      "photoUrl": "//lh4.googleusercontent.com/-bEYP3sOqCzo/AAAAAAAAAAI/AAAAAAAAAGo/k-AdGrDtfQM/s50-c-k-no/photo.jpg",
      "userId": "108795235609199328859"
     },
     "user_tz": -330
    },
    "id": "p18BMJqJ6Vwd",
    "outputId": "64b05197-0f4d-4411-8534-9068ccd0c366"
   },
   "outputs": [
    {
     "name": "stdout",
     "output_type": "stream",
     "text": [
      "[[-9.74341659e-01  4.65520561e-01  4.65520561e-01 ... -1.69427277e+00\n",
      "   4.65520561e-01  4.65520561e-01]\n",
      " [-6.03470629e-01  1.94629767e+00 -6.03470629e-01 ... -6.03470629e-01\n",
      "  -6.03470629e-01  6.71413519e-01]\n",
      " [-2.08341890e-01  2.81623749e-01 -6.98307529e-01 ... -2.08341890e-01\n",
      "   2.81623749e-01 -2.08341890e-01]\n",
      " ...\n",
      " [-1.36803566e-04  8.21169711e-05  1.95298207e-05 ... -1.28206424e-04\n",
      "  -1.29749250e-04 -9.71376163e-05]\n",
      " [ 1.83434521e-04 -1.08059843e-04  8.20451771e-05 ... -6.67049903e-06\n",
      "  -1.08059843e-04  1.32739849e-04]\n",
      " [ 2.01866538e+00 -1.97705757e+00  2.01866538e+00 ...  2.01866538e+00\n",
      "   2.01866538e+00  2.01866538e+00]]\n",
      "train:(70, 40718)\n",
      "[[ 4.65520561e-01  4.65520561e-01  4.65520561e-01 ...  4.65520561e-01\n",
      "   4.65520561e-01 -9.74341659e-01]\n",
      " [ 6.71413519e-01 -6.03470629e-01  1.94629767e+00 ... -6.03470629e-01\n",
      "  -6.03470629e-01 -6.03470629e-01]\n",
      " [-6.98307529e-01 -1.18827317e+00 -2.08341890e-01 ... -6.98307529e-01\n",
      "  -6.98307529e-01 -2.08341890e-01]\n",
      " ...\n",
      " [-6.68392408e-05 -2.54170373e-05 -8.10588339e-05 ...  2.02508865e-04\n",
      "  -8.91385662e-05 -1.02488900e-04]\n",
      " [ 1.45413517e-04 -2.60143859e-04  1.83434521e-04 ... -1.93441670e-05\n",
      "  -8.27125072e-05 -1.71428183e-04]\n",
      " [ 2.01866538e+00 -1.97705757e+00 -1.97705757e+00 ...  2.01866538e+00\n",
      "  -1.97705757e+00 -1.97705757e+00]]\n",
      "Test:(70, 5000)\n"
     ]
    }
   ],
   "source": [
    "print(train_set_x)\n",
    "print(\"train:\"+ str(train_set_x.shape))\n",
    "print(test_set_x)\n",
    "print(\"Test:\"+ str(test_set_x.shape))"
   ]
  },
  {
   "cell_type": "markdown",
   "metadata": {
    "colab_type": "text",
    "id": "97gGiemK88ke"
   },
   "source": [
    "# Activation Functions"
   ]
  },
  {
   "cell_type": "markdown",
   "metadata": {
    "colab_type": "text",
    "id": "VsFd3Ql28K1T"
   },
   "source": [
    "**Defininhg Sigmoid activation function**"
   ]
  },
  {
   "cell_type": "code",
   "execution_count": 0,
   "metadata": {
    "colab": {
     "autoexec": {
      "startup": false,
      "wait_interval": 0
     }
    },
    "colab_type": "code",
    "collapsed": true,
    "id": "s4hrQCzwR6Af"
   },
   "outputs": [],
   "source": [
    "def sigmoid(z):\n",
    "   \n",
    "    s = 1 / (1 + np.exp(-z))\n",
    "    \n",
    "    return s"
   ]
  },
  {
   "cell_type": "code",
   "execution_count": 0,
   "metadata": {
    "colab": {
     "autoexec": {
      "startup": false,
      "wait_interval": 0
     }
    },
    "colab_type": "code",
    "collapsed": true,
    "id": "kvmKLSySePc4"
   },
   "outputs": [],
   "source": [
    "def sigmoiderivative(Z):\n",
    "  \n",
    "  f = Z * (1-Z)\n",
    "  \n",
    "  return f"
   ]
  },
  {
   "cell_type": "markdown",
   "metadata": {
    "colab_type": "text",
    "id": "Pxopqj7P9Jk_"
   },
   "source": [
    "**function for tanh activation**"
   ]
  },
  {
   "cell_type": "code",
   "execution_count": 0,
   "metadata": {
    "colab": {
     "autoexec": {
      "startup": false,
      "wait_interval": 0
     }
    },
    "colab_type": "code",
    "collapsed": true,
    "id": "rFopXuTKR6Aj"
   },
   "outputs": [],
   "source": [
    "def tanh(z):\n",
    "    \n",
    "    s = (np.exp(z) - np.exp(-z))/(np.exp(z) + np.exp(-z))\n",
    "    \n",
    "    return s"
   ]
  },
  {
   "cell_type": "markdown",
   "metadata": {
    "colab_type": "text",
    "id": "sODSXD3t9O8V"
   },
   "source": [
    "**derivative of tanh activation**"
   ]
  },
  {
   "cell_type": "code",
   "execution_count": 0,
   "metadata": {
    "colab": {
     "autoexec": {
      "startup": false,
      "wait_interval": 0
     }
    },
    "colab_type": "code",
    "collapsed": true,
    "id": "avRK7nqTR6Al"
   },
   "outputs": [],
   "source": [
    "def tanhderivative(x):\n",
    "    \n",
    "    p = 1 - np.square(x)\n",
    "    \n",
    "    return p"
   ]
  },
  {
   "cell_type": "markdown",
   "metadata": {
    "colab_type": "text",
    "id": "SP9p2N4T9T45"
   },
   "source": [
    "**function for RELU activation**"
   ]
  },
  {
   "cell_type": "code",
   "execution_count": 0,
   "metadata": {
    "colab": {
     "autoexec": {
      "startup": false,
      "wait_interval": 0
     }
    },
    "colab_type": "code",
    "collapsed": true,
    "id": "iA51_1fcR6Ap"
   },
   "outputs": [],
   "source": [
    "def relu(z):\n",
    "    \n",
    "    s = np.maximum(0,z)\n",
    "    \n",
    "    return s"
   ]
  },
  {
   "cell_type": "markdown",
   "metadata": {
    "colab_type": "text",
    "id": "98b_bWNt9ZXu"
   },
   "source": [
    "**derivative of RELU activation**"
   ]
  },
  {
   "cell_type": "code",
   "execution_count": 0,
   "metadata": {
    "colab": {
     "autoexec": {
      "startup": false,
      "wait_interval": 0
     }
    },
    "colab_type": "code",
    "collapsed": true,
    "id": "tlAHT-xmR6Aq"
   },
   "outputs": [],
   "source": [
    "def reluderivative(x):\n",
    "    x[x<=0] = 0\n",
    "    x[x>0] = 1\n",
    "    return x\n"
   ]
  },
  {
   "cell_type": "markdown",
   "metadata": {
    "colab_type": "text",
    "id": "uGxL018z9obo"
   },
   "source": [
    "# Core functions"
   ]
  },
  {
   "cell_type": "markdown",
   "metadata": {
    "colab_type": "text",
    "id": "JzDll9W89su-"
   },
   "source": [
    "**Initialising the Weights and bais**"
   ]
  },
  {
   "cell_type": "code",
   "execution_count": 0,
   "metadata": {
    "colab": {
     "autoexec": {
      "startup": false,
      "wait_interval": 0
     }
    },
    "colab_type": "code",
    "collapsed": true,
    "id": "yPiutUqpR6Au"
   },
   "outputs": [],
   "source": [
    "def initialize(layer):\n",
    "    \n",
    "    l = len(layer)\n",
    "    parameters = {}\n",
    "    np.random.seed(0)\n",
    "    for i in range(1,l-1):\n",
    "      parameters[\"W\"+str(i)]=np.random.randn(layer[i],layer[i-1]) * np.sqrt(2/layer[i-1]) \n",
    "      parameters[\"b\"+str(i)]=np.zeros((layer[i],1))\n",
    "    \n",
    "    parameters[\"W\"+str(l-1)]=np.random.randn(layer[l-1],layer[l-2]) * 0.001\n",
    "    parameters[\"b\"+str(l-1)]=np.zeros((layer[l-1],1)) \n",
    "   \n",
    "    \n",
    "    return parameters"
   ]
  },
  {
   "cell_type": "markdown",
   "metadata": {},
   "source": [
    "**Initialising parameters for ADAM Optimiser**"
   ]
  },
  {
   "cell_type": "code",
   "execution_count": 0,
   "metadata": {
    "colab": {
     "autoexec": {
      "startup": false,
      "wait_interval": 0
     }
    },
    "colab_type": "code",
    "collapsed": true,
    "id": "tJcmhrTWwNU8"
   },
   "outputs": [],
   "source": [
    "def initialize_adam(parameters,layer) :\n",
    "    \n",
    "    L = len(parameters) // 2\n",
    "    v = {}\n",
    "    s = {}\n",
    "    \n",
    "   \n",
    "    for l in range(L-1):\n",
    "   \n",
    "        v[\"dW\" + str(l+1)] = np.zeros(parameters['W' + str(l+1)].shape)\n",
    "        v[\"db\" + str(l+1)] = np.zeros(parameters['b' + str(l+1)].shape)\n",
    "        s[\"dW\" + str(l+1)] = np.zeros(parameters['W' + str(l+1)].shape)\n",
    "        s[\"db\" + str(l+1)] = np.zeros(parameters['b' + str(l+1)].shape)\n",
    "    \n",
    "    \n",
    "    return v, s"
   ]
  },
  {
   "cell_type": "markdown",
   "metadata": {},
   "source": [
    "**Breaking the training dataset with random minibatches**"
   ]
  },
  {
   "cell_type": "code",
   "execution_count": 0,
   "metadata": {
    "colab": {
     "autoexec": {
      "startup": false,
      "wait_interval": 0
     }
    },
    "colab_type": "code",
    "collapsed": true,
    "id": "lAk0CFNTwNiz"
   },
   "outputs": [],
   "source": [
    "def random_mini_batches(X, Y, mini_batch_size = 512):\n",
    "    \n",
    "               \n",
    "    m = X.shape[1]                  \n",
    "    mini_batches = []\n",
    "        \n",
    "    permutation = list(np.random.permutation(m))\n",
    "    shuffled_X = X[:, permutation]\n",
    "    shuffled_Y = Y[:, permutation].reshape((1,m))\n",
    "\n",
    "    # Step 2: Partition (shuffled_X, shuffled_Y). Minus the end case.\n",
    "    num_complete_minibatches = math.floor(m/mini_batch_size) # number of mini batches of size mini_batch_size in your partitionning\n",
    "    for k in range(0, num_complete_minibatches):\n",
    "        mini_batch_X = shuffled_X[:, k*mini_batch_size : (k+1)*mini_batch_size]\n",
    "        mini_batch_Y = shuffled_Y[:, k*mini_batch_size : (k+1)*mini_batch_size]\n",
    "      \n",
    "        mini_batch = (mini_batch_X, mini_batch_Y)\n",
    "        mini_batches.append(mini_batch)\n",
    "    \n",
    "    # Handling the end case (last mini-batch < mini_batch_size)\n",
    "    if m % mini_batch_size != 0:\n",
    "        \n",
    "        mini_batch_X = shuffled_X[:, num_complete_minibatches*mini_batch_size:]\n",
    "        mini_batch_Y = shuffled_Y[:, num_complete_minibatches*mini_batch_size:]\n",
    "        \n",
    "        mini_batch = (mini_batch_X, mini_batch_Y)\n",
    "        mini_batches.append(mini_batch)\n",
    "    \n",
    "    return mini_batches"
   ]
  },
  {
   "cell_type": "markdown",
   "metadata": {
    "colab_type": "text",
    "id": "rlA0IH7-936C"
   },
   "source": [
    "**FORWARD PROPAGATION**"
   ]
  },
  {
   "cell_type": "code",
   "execution_count": 0,
   "metadata": {
    "colab": {
     "autoexec": {
      "startup": false,
      "wait_interval": 0
     }
    },
    "colab_type": "code",
    "collapsed": true,
    "id": "rbWSNzajkZ9w"
   },
   "outputs": [],
   "source": [
    "def fwd_propagation(X,parameters,layer):\n",
    "  \n",
    "  l = len(layer)\n",
    "  forward = {}\n",
    "  \n",
    "  forward[\"Z\"+str(1)]=np.dot(parameters[\"W\"+str(1)],X)+parameters[\"b\"+str(1)]\n",
    "    \n",
    "  forward[\"A\"+str(1)]=relu(forward[\"Z\"+str(1)])\n",
    "  \n",
    "  for i in range(2,l-1):\n",
    "    forward[\"Z\"+str(i)]=np.dot(parameters[\"W\"+str(i)],forward[\"A\"+str(i-1)])+parameters[\"b\"+str(i)]\n",
    "    forward[\"A\"+str(i)]=relu(forward[\"Z\"+str(i)])\n",
    "   \n",
    "  forward[\"Z\"+str(l-1)]=np.dot(parameters[\"W\"+str(l-1)],forward[\"A\"+str(l-2)])+parameters[\"b\"+str(l-1)]\n",
    "  forward[\"A\"+str(l-1)]=sigmoid(forward[\"Z\"+str(l-1)])\n",
    "  \n",
    "  return forward"
   ]
  },
  {
   "cell_type": "markdown",
   "metadata": {},
   "source": [
    "**FORWARD-PROPAGATION with DROPOUTS**"
   ]
  },
  {
   "cell_type": "code",
   "execution_count": 0,
   "metadata": {
    "colab": {
     "autoexec": {
      "startup": false,
      "wait_interval": 0
     }
    },
    "colab_type": "code",
    "collapsed": true,
    "id": "NbcDkA9VYp3v"
   },
   "outputs": [],
   "source": [
    "def fwd_propagation_drop(X,parameters,layer,keep_prob):\n",
    "  drop = {}\n",
    "  l = len(layer)\n",
    "  forward = {}\n",
    "  \n",
    "  forward[\"Z\"+str(1)]=np.dot(parameters[\"W\"+str(1)],X)+parameters[\"b\"+str(1)]\n",
    "    \n",
    "  forward[\"A\"+str(1)]=relu(forward[\"Z\"+str(1)])\n",
    "  drop[\"d\"+str(1)]=(np.random.rand(forward[\"A\"+str(1)].shape[0],forward[\"A\"+str(1)].shape[1])) < keep_prob[1]\n",
    "    \n",
    "  forward[\"A\"+str(1)] = np.multiply(forward[\"A\"+str(1)],drop[\"d\"+str(1)])\n",
    "  forward[\"A\"+str(1)] = forward[\"A\"+str(1)] / keep_prob[1]\n",
    "  \n",
    "  for i in range(2,l-1):\n",
    "    forward[\"Z\"+str(i)]=np.dot(parameters[\"W\"+str(i)],forward[\"A\"+str(i-1)])+parameters[\"b\"+str(i)]\n",
    "    \n",
    "    forward[\"A\"+str(i)]=relu(forward[\"Z\"+str(i)])\n",
    "    drop[\"d\"+str(i)]=(np.random.rand(forward[\"A\"+str(i)].shape[0],forward[\"A\"+str(i)].shape[1])) < keep_prob[i]\n",
    "    \n",
    "    forward[\"A\"+str(i)] = np.multiply(forward[\"A\"+str(i)],drop[\"d\"+str(i)])\n",
    "    forward[\"A\"+str(i)] = forward[\"A\"+str(i)] / keep_prob[i]\n",
    "    \n",
    "  forward[\"Z\"+str(l-1)]=np.dot(parameters[\"W\"+str(l-1)],forward[\"A\"+str(l-2)])+parameters[\"b\"+str(l-1)]\n",
    "  forward[\"A\"+str(l-1)]=sigmoid(forward[\"Z\"+str(l-1)])\n",
    "  \n",
    "  return forward"
   ]
  },
  {
   "cell_type": "markdown",
   "metadata": {},
   "source": [
    "**BACK_PROPATION WITH L2 Regularization**"
   ]
  },
  {
   "cell_type": "code",
   "execution_count": 0,
   "metadata": {
    "colab": {
     "autoexec": {
      "startup": false,
      "wait_interval": 0
     }
    },
    "colab_type": "code",
    "collapsed": true,
    "id": "W2fH8ImOb-cj"
   },
   "outputs": [],
   "source": [
    "def back_prop(X,Y,forward,layer,parameters,lambd=0.6):\n",
    "  m = X.shape[1]\n",
    "  l = len(layer)\n",
    "  grads = {}\n",
    "  \n",
    "  grads[\"dz\"+str(l-1)]= forward[\"A\"+str(l-1)] - Y\n",
    "  grads[\"dw\"+str(l-1)]=(np.dot(grads[\"dz\"+str(l-1)],forward[\"A\"+str(l-2)].T) / m) + ((lambd/m)*parameters[\"W\"+str(l-1)])\n",
    "  grads[\"db\"+str(l-1)]=np.sum(grads[\"dz\"+str(l-1)],axis=1,keepdims=True) / m \n",
    "  grads[\"da\"+str(l-2)]=np.dot(parameters[\"W\"+str(l-1)].T,grads[\"dz\"+str(l-1)])\n",
    "  \n",
    "  for i in range(l-2,1,-1):\n",
    "    grads[\"dz\"+str(i)]=grads[\"da\"+str(i)]*reluderivative(forward[\"A\"+str(i)])\n",
    "    grads[\"dw\"+str(i)]=(np.dot(grads[\"dz\"+str(i)],forward[\"A\"+str(i-1)].T) / m) + ((lambd/m)*parameters[\"W\"+str(i)])\n",
    "    grads[\"db\"+str(i)]=np.sum(grads[\"dz\"+str(i)],axis=1,keepdims=True)/m\n",
    "    grads[\"da\"+str(i-1)]=np.dot(parameters[\"W\"+str(i)].T,grads[\"dz\"+str(i)])\n",
    "  \n",
    "  grads[\"dz\"+str(1)]=grads[\"da\"+str(1)]*reluderivative(forward[\"A\"+str(1)])\n",
    "  grads[\"dw\"+str(1)]=np.dot(grads[\"dz\"+str(1)],X.T)/m + ((lambd/m)*parameters[\"W\"+str(1)])\n",
    "\n",
    "  grads[\"db\"+str(1)]=np.sum(grads[\"dz\"+str(1)],axis=1,keepdims=True)/m\n",
    "    \n",
    "  return grads"
   ]
  },
  {
   "cell_type": "markdown",
   "metadata": {
    "colab_type": "text",
    "id": "lVuaLATN9_-W"
   },
   "source": [
    "**function to update the weights and Bais**"
   ]
  },
  {
   "cell_type": "code",
   "execution_count": 0,
   "metadata": {
    "colab": {
     "autoexec": {
      "startup": false,
      "wait_interval": 0
     }
    },
    "colab_type": "code",
    "collapsed": true,
    "id": "Yim9YcQYhsXp"
   },
   "outputs": [],
   "source": [
    "def optimise(parameters,grads,layer,learning_rate=0.01):\n",
    "  l= len(layer)\n",
    "  \n",
    "  for i in range(1,l):\n",
    "    parameters[\"W\"+str(i)]=parameters[\"W\"+str(i)] - (learning_rate * grads[\"dw\"+str(i)])\n",
    "    parameters[\"b\"+str(i)]=parameters[\"b\"+str(i)] - (learning_rate * grads[\"db\"+str(i)])\n",
    "  \n",
    "  return parameters\n"
   ]
  },
  {
   "cell_type": "markdown",
   "metadata": {},
   "source": [
    "**Updating parameters with ADAM optimizer**"
   ]
  },
  {
   "cell_type": "code",
   "execution_count": 0,
   "metadata": {
    "colab": {
     "autoexec": {
      "startup": false,
      "wait_interval": 0
     }
    },
    "colab_type": "code",
    "collapsed": true,
    "id": "FKKmydKsxC0y"
   },
   "outputs": [],
   "source": [
    "def update_parameters_with_adam(parameters, grads, layer, v, s, t, learning_rate = 0.01, beta1 = 0.9, beta2 = 0.999,  epsilon = 1e-8):\n",
    "    \n",
    "    \n",
    "    L = len(parameters) // 2                 # number of layers in the neural networks\n",
    "    v_corrected = {}                         # Initializing first moment estimate, python dictionary\n",
    "    s_corrected = {}                         # Initializing second moment estimate, python dictionary\n",
    "    \n",
    "    \n",
    "    for l in range(L-1):\n",
    "       \n",
    "        v[\"dW\" + str(l+1)] = beta1 * v['dW' + str(l+1)] + (1-beta1) * grads['dw' + str(l+1)]\n",
    "        v[\"db\" + str(l+1)] = beta1 * v['db' + str(l+1)] + (1-beta1) * grads['db' + str(l+1)]\n",
    "       \n",
    "        v_corrected[\"dw\" + str(l+1)] = v['dW' + str(l+1)] / (1 - np.power(beta1, t))\n",
    "        v_corrected[\"db\" + str(l+1)] = v['db' + str(l+1)] / (1 - np.power(beta1, t))\n",
    "       \n",
    "\n",
    "        s[\"dW\" + str(l+1)] = beta2 * s['dW' + str(l+1)] + (1-beta2) * np.power(grads['dw' + str(l+1)], 2)\n",
    "        s[\"db\" + str(l+1)] = beta2 * s['db' + str(l+1)] + (1-beta2) * np.power(grads['db' + str(l+1)], 2)\n",
    "        \n",
    "        s_corrected[\"dw\" + str(l+1)] = s['dW' + str(l+1)] / (1 - np.power(beta2, t))\n",
    "        s_corrected[\"db\" + str(l+1)] = s['db' + str(l+1)] / (1 - np.power(beta2, t))\n",
    "       \n",
    "        parameters[\"W\" + str(l+1)] = parameters['W' + str(l+1)] - learning_rate * v_corrected['dw' + str(l+1)] / np.sqrt(s_corrected['dw' + str(l+1)] + epsilon)\n",
    "        parameters[\"b\" + str(l+1)] = parameters['b' + str(l+1)] - learning_rate * v_corrected['db' + str(l+1)] / np.sqrt(s_corrected['db' + str(l+1)] + epsilon)\n",
    "       \n",
    "    return parameters, v, s"
   ]
  },
  {
   "cell_type": "markdown",
   "metadata": {
    "colab_type": "text",
    "id": "ERcdNlRc-K7b"
   },
   "source": [
    "**function to predict result**"
   ]
  },
  {
   "cell_type": "code",
   "execution_count": 0,
   "metadata": {
    "colab": {
     "autoexec": {
      "startup": false,
      "wait_interval": 0
     }
    },
    "colab_type": "code",
    "collapsed": true,
    "id": "__pDc33RjqMd"
   },
   "outputs": [],
   "source": [
    "def predict(X,parameters,layers):\n",
    "  l= len(layer)\n",
    "  fwd = fwd_propagation(X,parameters,layers)\n",
    "  \n",
    "  Y1 = fwd[\"A\"+str(l-1)]\n",
    "  Y1 = np.around(Y1)\n",
    "  \n",
    "  return Y1"
   ]
  },
  {
   "cell_type": "markdown",
   "metadata": {},
   "source": [
    "**Function to retieve total cost for an epoch**"
   ]
  },
  {
   "cell_type": "code",
   "execution_count": 0,
   "metadata": {
    "colab": {
     "autoexec": {
      "startup": false,
      "wait_interval": 0
     }
    },
    "colab_type": "code",
    "collapsed": true,
    "id": "oeyoj2FMk-ss"
   },
   "outputs": [],
   "source": [
    "def calculate_cost(Y,forward,parameters,layer,lambd=0.6):\n",
    "  l= len(layer)\n",
    "  m=Y.shape[1]\n",
    "  \n",
    "  cost = (-1 * np.sum((Y * np.log(forward[\"A\"+str(l-1)])) + (1 - Y) * np.log(1 - forward[\"A\"+str(l-1)])) / m) + ((lambd/(2*m))*np.sum(np.square(parameters[\"W\"+str(l-1)])))\n",
    "  \n",
    "  return cost\n",
    "  "
   ]
  },
  {
   "cell_type": "markdown",
   "metadata": {
    "colab_type": "text",
    "id": "J6UPvx3f-WfN"
   },
   "source": [
    "**Final model with all functions merged**"
   ]
  },
  {
   "cell_type": "code",
   "execution_count": 0,
   "metadata": {
    "colab": {
     "autoexec": {
      "startup": false,
      "wait_interval": 0
     }
    },
    "colab_type": "code",
    "collapsed": true,
    "id": "002kCX9NnC2A"
   },
   "outputs": [],
   "source": [
    "def model(X_train,Y_train, X_test, Y_test, layer, keep_prob,mini_batch_size=512, beta1=0.0, beta2=0.0, learning_rate=0.001, iterations = 1500, lambd=0.6):\n",
    "  costs = []\n",
    "  \n",
    "  parameters = initialize(layer)\n",
    "  v, s = initialize_adam(parameters,layer)\n",
    "  t = 0\n",
    "  \n",
    "  for j in range(iterations):\n",
    "  \n",
    "    minibatches = random_mini_batches(X_train,Y_train,mini_batch_size)\n",
    "    \n",
    "    for minibatch in minibatches:\n",
    "      (minibatch_x,minibatch_y) = minibatch\n",
    "      \n",
    "      forward = fwd_propagation_drop(minibatch_x,parameters,layer,keep_prob)\n",
    "      \n",
    "      cost = calculate_cost(minibatch_y,forward,parameters,layer,lambd)\n",
    "      grads = back_prop(minibatch_x,minibatch_y,forward,layer,parameters,lambd)\n",
    "      t=t+1\n",
    "      parameters,v,s = update_parameters_with_adam(parameters, grads, layer, v, s, t, learning_rate,beta1, beta2)\n",
    "    \n",
    "    \n",
    "    if j % 10 == 0:\n",
    "      costs.append(cost)\n",
    "    \n",
    "    if j%50 == 0:\n",
    "      print (\"Cost after iteration %i: %f\" %(j , cost))\n",
    "    #if j == 100:\n",
    "      #par = parameters[:]\n",
    "      \n",
    "  Y_prediction_train = predict(X_train,parameters,layer)\n",
    "  Y_prediction_test = predict(X_test,parameters,layer)\n",
    "\n",
    "  abb = np.mean(np.abs(Y_prediction_train - Y_train)) * 100\n",
    "  abc = np.mean(np.abs(Y_prediction_test - Y_test)) * 100\n",
    "  print(\"train accuracy: {} %\".format(100 - abb))\n",
    "  print(\"test accuracy: {} %\".format(100 - abc))\n",
    "  \n",
    "  return parameters, grads, forward, costs, Y_prediction_test, Y_prediction_train"
   ]
  },
  {
   "cell_type": "markdown",
   "metadata": {
    "colab_type": "text",
    "id": "a0_hVeqpR6A_"
   },
   "source": [
    "# Training of model"
   ]
  },
  {
   "cell_type": "code",
   "execution_count": 44,
   "metadata": {
    "colab": {
     "autoexec": {
      "startup": false,
      "wait_interval": 0
     },
     "base_uri": "https://localhost:8080/",
     "height": 380,
     "output_extras": [
      {
       "item_id": 1
      },
      {
       "item_id": 2
      },
      {
       "item_id": 15
      }
     ]
    },
    "colab_type": "code",
    "executionInfo": {
     "elapsed": 163265,
     "status": "ok",
     "timestamp": 1522337019371,
     "user": {
      "displayName": "Swastik Mahapatra",
      "photoUrl": "//lh4.googleusercontent.com/-bEYP3sOqCzo/AAAAAAAAAAI/AAAAAAAAAGo/k-AdGrDtfQM/s50-c-k-no/photo.jpg",
      "userId": "108795235609199328859"
     },
     "user_tz": -330
    },
    "id": "qeowsx09rnQq",
    "outputId": "383cd3c7-991f-4b62-867a-94c5a9a5677e"
   },
   "outputs": [
    {
     "name": "stdout",
     "output_type": "stream",
     "text": [
      "Cost after iteration 0: 0.541315\n"
     ]
    },
    {
     "name": "stderr",
     "output_type": "stream",
     "text": [
      "/usr/local/lib/python3.6/dist-packages/ipykernel_launcher.py:3: RuntimeWarning: overflow encountered in exp\n",
      "  This is separate from the ipykernel package so we can avoid doing imports until\n",
      "/usr/local/lib/python3.6/dist-packages/ipykernel_launcher.py:5: RuntimeWarning: divide by zero encountered in log\n",
      "  \"\"\"\n",
      "/usr/local/lib/python3.6/dist-packages/ipykernel_launcher.py:5: RuntimeWarning: invalid value encountered in multiply\n",
      "  \"\"\"\n"
     ]
    },
    {
     "name": "stdout",
     "output_type": "stream",
     "text": [
      "Cost after iteration 50: 0.038811\n",
      "Cost after iteration 100: 0.005443\n",
      "Cost after iteration 150: 0.136275\n",
      "Cost after iteration 200: 0.268307\n",
      "Cost after iteration 250: 0.304667\n",
      "Cost after iteration 300: 0.348919\n",
      "Cost after iteration 350: 0.113752\n",
      "Cost after iteration 400: 0.370835\n",
      "Cost after iteration 450: 0.032783\n",
      "Cost after iteration 500: 0.120866\n",
      "Cost after iteration 550: 0.087645\n",
      "Cost after iteration 600: 0.103512\n",
      "train accuracy: 95.75617662950047 %\n",
      "test accuracy: 95.12 %\n"
     ]
    }
   ],
   "source": [
    "layer = [70,15,12,6,1]\n",
    "keep_prob = [1.0,1.0,1.0,1.0,1.0]\n",
    "para,grd,ford,cst,test,train1 = model(train_set_x, Y_train_final, test_set_x, Y_test_final, layer, keep_prob, mini_batch_size=128, beta1=0.9, beta2=0.999, learning_rate = 0.001, iterations = 620, lambd = 0.0 ) "
   ]
  },
  {
   "cell_type": "code",
   "execution_count": 41,
   "metadata": {
    "colab": {
     "autoexec": {
      "startup": false,
      "wait_interval": 0
     },
     "base_uri": "https://localhost:8080/",
     "height": 54,
     "output_extras": [
      {
       "item_id": 1
      }
     ]
    },
    "colab_type": "code",
    "executionInfo": {
     "elapsed": 803,
     "status": "ok",
     "timestamp": 1522081168571,
     "user": {
      "displayName": "Swastik Mahapatra",
      "photoUrl": "//lh4.googleusercontent.com/-bEYP3sOqCzo/AAAAAAAAAAI/AAAAAAAAAGo/k-AdGrDtfQM/s50-c-k-no/photo.jpg",
      "userId": "108795235609199328859"
     },
     "user_tz": -330
    },
    "id": "lEKN0M1B5q1F",
    "outputId": "1aac8c6c-6f2c-4aec-b8d2-a2dc55759f55"
   },
   "outputs": [
    {
     "name": "stdout",
     "output_type": "stream",
     "text": [
      "[0.2844383483649527, 0.09790686992147218, 0.11659956431873633, 0.08758845529054762, 0.10480970275389895, 0.08351084805688447, 0.19331014550156006, 0.07013550831842293, 0.09986951890453373, 0.05765091097053626, 0.10395007184740053, 0.13018677911763796, 0.11534581698353319, 0.035192694137246724, 0.05993653394124915, 0.10017291546136554, 0.11401716156108142, 0.07720558734667972, 0.15769851680558186, 0.12948319935711877, 0.1208785527523391, 0.16025581073885284, 0.08437076613952202, 0.0527777198450542, 0.05823391324460703, 0.08369573029599263, 0.07128063309346738, 0.06952668179088885, 0.08383562251201883, 0.0671056463544313, 0.11741705800691078, 0.09681909255297474, 0.05344939553894169, 0.09871544725951692, 0.1068293437209364, 0.1467407138253219]\n"
     ]
    }
   ],
   "source": [
    "print(cst)"
   ]
  },
  {
   "cell_type": "markdown",
   "metadata": {},
   "source": [
    "**Finding the distribution of correct positive and negative predictions for the Validation set**"
   ]
  },
  {
   "cell_type": "code",
   "execution_count": 45,
   "metadata": {
    "colab": {
     "autoexec": {
      "startup": false,
      "wait_interval": 0
     },
     "base_uri": "https://localhost:8080/",
     "height": 103,
     "output_extras": [
      {
       "item_id": 1
      }
     ]
    },
    "colab_type": "code",
    "executionInfo": {
     "elapsed": 813,
     "status": "ok",
     "timestamp": 1522337037129,
     "user": {
      "displayName": "Swastik Mahapatra",
      "photoUrl": "//lh4.googleusercontent.com/-bEYP3sOqCzo/AAAAAAAAAAI/AAAAAAAAAGo/k-AdGrDtfQM/s50-c-k-no/photo.jpg",
      "userId": "108795235609199328859"
     },
     "user_tz": -330
    },
    "id": "1XoWDR6YFePa",
    "outputId": "bc3c9982-1e01-47ec-9722-89eb8309c4b0"
   },
   "outputs": [
    {
     "name": "stdout",
     "output_type": "stream",
     "text": [
      "fp=113.0\n",
      "fn=131.0\n",
      "correct=4756.0\n",
      "tp=213.0\n",
      "tn=4543.0\n"
     ]
    }
   ],
   "source": [
    "#for test set\n",
    "exam = np.zeros((1,5000))\n",
    "exam1 = np.zeros((1,5000))\n",
    "exam2 = np.zeros((1,5000))\n",
    "exam3 = np.zeros((1,5000))\n",
    "exam = test - Y_test_final\n",
    "exam1 = np.copy(exam)\n",
    "exam2 = np.copy(exam)\n",
    "exam1[exam1==-1]=0\n",
    "exam[exam==1]=0\n",
    "\n",
    "fp = np.sum(exam1)\n",
    "fn = np.sum(exam)\n",
    "fn = -1 * fn\n",
    "\n",
    "exam2[exam2==-1]=1\n",
    "\n",
    "corr = 5000-np.sum(exam2)\n",
    "\n",
    "exam3 = test * Y_test_final\n",
    "\n",
    "tp = np.sum(exam3)\n",
    "tn = corr-tp\n",
    "print(\"fp=\"+ str(fp))\n",
    "print(\"fn=\"+ str(fn))\n",
    "print(\"correct=\"+ str(corr))\n",
    "print(\"tp=\"+ str(tp))\n",
    "print(\"tn=\"+ str(tn))\n"
   ]
  },
  {
   "cell_type": "markdown",
   "metadata": {},
   "source": [
    "**finding MCC score for the Validation Set**"
   ]
  },
  {
   "cell_type": "code",
   "execution_count": 47,
   "metadata": {
    "colab": {
     "autoexec": {
      "startup": false,
      "wait_interval": 0
     },
     "base_uri": "https://localhost:8080/",
     "height": 34,
     "output_extras": [
      {
       "item_id": 1
      }
     ]
    },
    "colab_type": "code",
    "executionInfo": {
     "elapsed": 803,
     "status": "ok",
     "timestamp": 1522337065284,
     "user": {
      "displayName": "Swastik Mahapatra",
      "photoUrl": "//lh4.googleusercontent.com/-bEYP3sOqCzo/AAAAAAAAAAI/AAAAAAAAAGo/k-AdGrDtfQM/s50-c-k-no/photo.jpg",
      "userId": "108795235609199328859"
     },
     "user_tz": -330
    },
    "id": "6AtrimRYFeVp",
    "outputId": "c6648d67-aa69-4328-ebc0-875e659462b3"
   },
   "outputs": [
    {
     "name": "stdout",
     "output_type": "stream",
     "text": [
      "MCC score=0.6099418207459729\n"
     ]
    }
   ],
   "source": [
    "n = tn+tp+fn+fp\n",
    "s = (tp+fn)/n\n",
    "p = (tp+fp)/n\n",
    "\n",
    "mcc = ((tp/n) - (s*p))/np.sqrt(p*s*(1-s)*(1-p))\n",
    "mcc1 = ((tp*tn)-(fp*fn))/np.sqrt((tp+fp)*(tp+fn)*(tn+fp)*(tn+fn))\n",
    "print(\"MCC score=\"+ str(mcc1))"
   ]
  },
  {
   "cell_type": "markdown",
   "metadata": {
    "colab_type": "text",
    "id": "g7Ib13mRR6BG"
   },
   "source": [
    "**Graph for the reducing loss of the training set**"
   ]
  },
  {
   "cell_type": "code",
   "execution_count": 42,
   "metadata": {
    "colab": {
     "autoexec": {
      "startup": false,
      "wait_interval": 0
     },
     "base_uri": "https://localhost:8080/",
     "height": 294,
     "output_extras": [
      {
       "item_id": 1
      }
     ]
    },
    "colab_type": "code",
    "executionInfo": {
     "elapsed": 1090,
     "status": "ok",
     "timestamp": 1522336773486,
     "user": {
      "displayName": "Swastik Mahapatra",
      "photoUrl": "//lh4.googleusercontent.com/-bEYP3sOqCzo/AAAAAAAAAAI/AAAAAAAAAGo/k-AdGrDtfQM/s50-c-k-no/photo.jpg",
      "userId": "108795235609199328859"
     },
     "user_tz": -330
    },
    "id": "WhSoWZK8R6BG",
    "outputId": "a227c825-f022-41d9-fde2-571d36eabf09"
   },
   "outputs": [
    {
     "data": {
      "image/png": "[encoded data removed]",
      "text/plain": [
       "<matplotlib.figure.Figure at 0x7fd39e97fcf8>"
      ]
     },
     "metadata": {
      "tags": []
     },
     "output_type": "display_data"
    }
   ],
   "source": [
    "costs = np.squeeze(cst)\n",
    "plt.plot(costs)\n",
    "plt.ylabel('cost')\n",
    "plt.xlabel('iterations (per hundreds)')\n",
    "plt.title(\"Learning rate =\" + str(0.01))\n",
    "plt.show()"
   ]
  },
  {
   "cell_type": "markdown",
   "metadata": {},
   "source": [
    "**Importing the Test dataset**"
   ]
  },
  {
   "cell_type": "code",
   "execution_count": 48,
   "metadata": {
    "colab": {
     "autoexec": {
      "startup": false,
      "wait_interval": 0
     },
     "base_uri": "https://localhost:8080/",
     "height": 3300,
     "output_extras": [
      {
       "item_id": 1
      }
     ]
    },
    "colab_type": "code",
    "executionInfo": {
     "elapsed": 3296,
     "status": "ok",
     "timestamp": 1522337078674,
     "user": {
      "displayName": "Swastik Mahapatra",
      "photoUrl": "//lh4.googleusercontent.com/-bEYP3sOqCzo/AAAAAAAAAAI/AAAAAAAAAGo/k-AdGrDtfQM/s50-c-k-no/photo.jpg",
      "userId": "108795235609199328859"
     },
     "user_tz": -330
    },
    "id": "XFElB-FnJxq3",
    "outputId": "46cbd5c2-90f8-4289-e989-aa656745958a"
   },
   "outputs": [
    {
     "name": "stdout",
     "output_type": "stream",
     "text": [
      "       IFATHER  NRCH17_2  IRHHSIZ2  IIHHSIZ2  IRKI17_2  IIKI17_2  IRHH65_2  \\\n",
      "0            4         0         3         1         1         1         1   \n",
      "1            1         0         6         1         4         1         1   \n",
      "2            4         0         1         1         1         1         1   \n",
      "3            4         0         4         1         1         1         1   \n",
      "4            4         0         2         1         1         1         1   \n",
      "5            4         0         5         1         1         1         1   \n",
      "6            4         0         3         1         1         1         2   \n",
      "7            4         2         4         1         3         1         1   \n",
      "8            4         2         6         1         4         1         1   \n",
      "9            2         0         2         1         2         1         1   \n",
      "10           4         3         5         1         4         1         1   \n",
      "11           2         0         4         1         2         1         1   \n",
      "12           4         0         2         1         1         1         1   \n",
      "13           4         0         1         1         1         1         1   \n",
      "14           2         0         4         1         3         1         2   \n",
      "15           4         1         3         1         2         1         1   \n",
      "16           4         2         6         1         3         1         1   \n",
      "17           4         0         2         1         1         1         2   \n",
      "18           4         1         2         1         2         1         1   \n",
      "19           4         3         5         1         4         1         1   \n",
      "20           4         0         2         1         1         1         1   \n",
      "21           4         0         4         1         3         1         1   \n",
      "22           4         2         4         1         3         1         1   \n",
      "23           4         1         4         1         2         1         2   \n",
      "24           4         2         4         1         3         1         1   \n",
      "25           4         0         2         1         1         1         1   \n",
      "26           4         0         2         1         1         1         3   \n",
      "27           4         1         3         1         2         1         1   \n",
      "28           4         0         2         1         1         1         1   \n",
      "29           4         0         3         1         1         1         1   \n",
      "...        ...       ...       ...       ...       ...       ...       ...   \n",
      "11400        1         0         4         1         3         1         1   \n",
      "11401        1         0         4         1         3         1         1   \n",
      "11402        4         3         6         1         4         1         1   \n",
      "11403        4         0         2         1         1         1         1   \n",
      "11404        4         0         4         1         1         1         1   \n",
      "11405        4         0         2         1         1         1         1   \n",
      "11406        4         1         3         1         2         1         1   \n",
      "11407        4         1         3         1         2         1         1   \n",
      "11408        4         1         3         1         2         1         1   \n",
      "11409        4         0         1         1         1         1         1   \n",
      "11410        2         0         3         1         2         1         1   \n",
      "11411        4         0         2         1         1         1         1   \n",
      "11412        4         0         4         1         1         1         1   \n",
      "11413        4         0         3         1         1         1         1   \n",
      "11414        4         0         2         1         1         1         1   \n",
      "11415        4         0         1         1         1         1         1   \n",
      "11416        4         0         5         1         1         1         2   \n",
      "11417        1         0         6         1         4         1         1   \n",
      "11418        4         1         5         1         2         1         1   \n",
      "11419        4         1         3         1         2         1         1   \n",
      "11420        1         0         4         1         3         1         1   \n",
      "11421        4         3         5         1         4         1         1   \n",
      "11422        4         0         6         1         3         1         1   \n",
      "11423        4         0         4         1         1         1         1   \n",
      "11424        4         0         2         1         1         1         1   \n",
      "11425        4         3         6         1         4         1         1   \n",
      "11426        4         0         4         1         1         1         2   \n",
      "11427        4         2         4         1         3         1         1   \n",
      "11428        4         2         4         1         3         1         1   \n",
      "11429        2         0         5         1         4         1         1   \n",
      "\n",
      "       IIHH65_2  PRXRETRY  PRXYDATA  ...    POVERTY3  TOOLONG  TROUBUND  \\\n",
      "0             1        99        99  ...           1        2         2   \n",
      "1             1        99         1  ...           3        2         2   \n",
      "2             1        99        99  ...           2        2         2   \n",
      "3             1        99        99  ...           3        2         2   \n",
      "4             1        99        99  ...           1        2         2   \n",
      "5             1        99        99  ...           1        2         2   \n",
      "6             1        99        99  ...           3        1         2   \n",
      "7             1        99        99  ...           2        2         2   \n",
      "8             1        94        94  ...           1        2         1   \n",
      "9             1        99        99  ...           1        2         2   \n",
      "10            1        99        99  ...           1        2         2   \n",
      "11            1        99        99  ...           3        2         2   \n",
      "12            1        99        99  ...           3        1         1   \n",
      "13            1        99        99  ...           3        2         2   \n",
      "14            1        99        99  ...           3        2         2   \n",
      "15            1        99         1  ...           1        2         2   \n",
      "16            1        99        99  ...           2        2         2   \n",
      "17            1        99        99  ...           3        2         1   \n",
      "18            1        99        99  ...           3        2         2   \n",
      "19            1        99        99  ...           1        2         2   \n",
      "20            1        99        99  ...           3        2         2   \n",
      "21            1        99        99  ...           3        1         2   \n",
      "22            1        99        99  ...           2        2         2   \n",
      "23            1        99        99  ...           3        2         2   \n",
      "24            1        99         1  ...           2        2         2   \n",
      "25            1        99        99  ...           1        2         2   \n",
      "26            1        99        99  ...           3        2         2   \n",
      "27            1        99        99  ...           3        2         2   \n",
      "28            1        99        99  ...           3        2         2   \n",
      "29            1        99        99  ...           3        2         2   \n",
      "...         ...       ...       ...  ...         ...      ...       ...   \n",
      "11400         1        99         1  ...           3        2         2   \n",
      "11401         1        99         1  ...           3        2         2   \n",
      "11402         1        99        99  ...           2        2         2   \n",
      "11403         1        99        99  ...           1        2         2   \n",
      "11404         1        99        99  ...           2        2         2   \n",
      "11405         1        99        99  ...           2        2         2   \n",
      "11406         1        99        99  ...           2        2         2   \n",
      "11407         1        99        99  ...           3        2         2   \n",
      "11408         1        99        99  ...           3        2         2   \n",
      "11409         1        99        99  ...           3        1         2   \n",
      "11410         1        99         1  ...           2        2         2   \n",
      "11411         1        99        99  ...           2        2         2   \n",
      "11412         1        99        99  ...           3        2         2   \n",
      "11413         1        99        99  ...           2        2         2   \n",
      "11414         1        99        99  ...           3        2         2   \n",
      "11415         1        99        99  ...           3        2         2   \n",
      "11416         1        99        99  ...           2        2         2   \n",
      "11417         1        99         1  ...           1        2         2   \n",
      "11418         1        99        99  ...           1        2         2   \n",
      "11419         1        99        99  ...           2        1         2   \n",
      "11420         1        99         1  ...           1        2         2   \n",
      "11421         1        99        99  ...           3        2         2   \n",
      "11422         1        99        99  ...           2        2         2   \n",
      "11423         1        99        99  ...           3        2         2   \n",
      "11424         1        99        99  ...           1        2         2   \n",
      "11425         1        99        99  ...           1        1         2   \n",
      "11426         1        99        99  ...           3        2         2   \n",
      "11427         1        99         1  ...           2        2         2   \n",
      "11428         1        99        99  ...           3        2         2   \n",
      "11429         1        99         1  ...           3        2         2   \n",
      "\n",
      "       PDEN10  COUTYP2  MAIIN102  AIIND102      ANALWT_C  VESTR  VEREP  \n",
      "0           1        1         2         2   1448.823373  40039      2  \n",
      "1           2        2         2         2    444.628255  40037      2  \n",
      "2           2        2         2         2   2109.523374  40030      1  \n",
      "3           1        1         2         2   1861.925999  40003      2  \n",
      "4           2        3         2         2   5712.632091  40016      1  \n",
      "5           2        2         2         2   3469.405248  40017      1  \n",
      "6           2        3         2         2   3022.280326  40024      1  \n",
      "7           2        3         2         2   2300.206495  40005      2  \n",
      "8           1        1         2         2   3185.494534  40039      2  \n",
      "9           1        1         2         2   1220.353684  40009      2  \n",
      "10          1        1         2         2   1653.824142  40033      2  \n",
      "11          2        2         2         2    790.736351  40031      2  \n",
      "12          1        1         2         2   8892.422947  40020      2  \n",
      "13          1        1         2         2  16630.034560  40034      1  \n",
      "14          2        2         2         2   3114.456568  40045      1  \n",
      "15          2        2         2         2   1175.049766  40023      2  \n",
      "16          2        2         2         2    394.984533  40044      2  \n",
      "17          1        1         2         2  36731.888330  40043      2  \n",
      "18          2        2         2         2    312.441099  40046      1  \n",
      "19          2        2         2         2   1393.950074  40009      2  \n",
      "20          3        3         2         2    461.324303  40008      2  \n",
      "21          2        2         2         2   3935.780562  40022      1  \n",
      "22          1        1         2         2    755.497342  40027      1  \n",
      "23          2        2         1         1   4923.976090  40011      1  \n",
      "24          1        1         2         2   3589.696556  40013      2  \n",
      "25          1        1         2         2   4410.684838  40026      1  \n",
      "26          1        1         2         2  19802.264200  40039      2  \n",
      "27          2        1         2         2   1431.677896  40047      2  \n",
      "28          2        2         2         2   1729.251638  40008      2  \n",
      "29          1        1         2         2   1522.203037  40007      1  \n",
      "...       ...      ...       ...       ...           ...    ...    ...  \n",
      "11400       2        1         2         2    548.320138  40004      2  \n",
      "11401       1        1         2         2    346.913621  40028      2  \n",
      "11402       1        1         2         2   2888.124844  40022      2  \n",
      "11403       1        1         2         2   3787.204626  40032      1  \n",
      "11404       2        3         2         2   2950.540494  40048      2  \n",
      "11405       1        1         2         2   3913.595476  40031      2  \n",
      "11406       1        1         2         2   4168.531940  40015      1  \n",
      "11407       1        2         2         2   3584.563415  40042      1  \n",
      "11408       1        1         2         2  15626.825730  40033      2  \n",
      "11409       1        1         2         2   1637.462225  40035      2  \n",
      "11410       2        2         2         2   1212.410233  40012      2  \n",
      "11411       2        2         2         2   1661.590025  40042      1  \n",
      "11412       1        1         2         2  20618.819670  40043      2  \n",
      "11413       2        2         2         2   2086.697571  40028      2  \n",
      "11414       2        1         2         2   5598.961067  40012      1  \n",
      "11415       2        2         2         2    199.487935  40023      2  \n",
      "11416       2        2         2         2   2530.807473  40039      2  \n",
      "11417       2        2         2         2   4487.030959  40025      1  \n",
      "11418       2        3         2         2   3924.980247  40049      2  \n",
      "11419       2        3         2         2   1380.485702  40034      1  \n",
      "11420       2        3         2         2    367.066825  40003      2  \n",
      "11421       2        2         2         2   2050.897768  40022      2  \n",
      "11422       2        2         2         2   2572.188205  40009      2  \n",
      "11423       2        2         2         2   4960.413823  40013      2  \n",
      "11424       2        3         2         2   1958.431482  40019      1  \n",
      "11425       2        3         2         2   2827.445484  40011      2  \n",
      "11426       2        2         2         2   5194.522223  40020      2  \n",
      "11427       2        3         2         2   2864.879952  40020      1  \n",
      "11428       3        3         2         2    502.923133  40017      1  \n",
      "11429       1        1         2         2    224.402498  40007      2  \n",
      "\n",
      "[11430 rows x 70 columns]\n"
     ]
    }
   ],
   "source": [
    "d8 = pd.read_csv(\"data/criminal_test.csv\")\n",
    "print(d8)"
   ]
  },
  {
   "cell_type": "code",
   "execution_count": 0,
   "metadata": {
    "colab": {
     "autoexec": {
      "startup": false,
      "wait_interval": 0
     }
    },
    "colab_type": "code",
    "collapsed": true,
    "id": "iMF0reEPJyMU"
   },
   "outputs": [],
   "source": [
    "t8 = np.zeros((11430,70))\n",
    "t8[:] = d8[:]"
   ]
  },
  {
   "cell_type": "markdown",
   "metadata": {},
   "source": [
    "**Normalising The test data **"
   ]
  },
  {
   "cell_type": "code",
   "execution_count": 50,
   "metadata": {
    "colab": {
     "autoexec": {
      "startup": false,
      "wait_interval": 0
     },
     "base_uri": "https://localhost:8080/",
     "height": 259,
     "output_extras": [
      {
       "item_id": 1
      }
     ]
    },
    "colab_type": "code",
    "executionInfo": {
     "elapsed": 809,
     "status": "ok",
     "timestamp": 1522337082137,
     "user": {
      "displayName": "Swastik Mahapatra",
      "photoUrl": "//lh4.googleusercontent.com/-bEYP3sOqCzo/AAAAAAAAAAI/AAAAAAAAAGo/k-AdGrDtfQM/s50-c-k-no/photo.jpg",
      "userId": "108795235609199328859"
     },
     "user_tz": -330
    },
    "id": "E4y4vwF8JySE",
    "outputId": "08b6c936-77ec-4f94-a801-5dae0d5eb81f"
   },
   "outputs": [
    {
     "name": "stdout",
     "output_type": "stream",
     "text": [
      "[[ 4.65520561e-01 -1.69427277e+00  4.65520561e-01 ...  4.65520561e-01\n",
      "   4.65520561e-01 -9.74341659e-01]\n",
      " [-6.03470629e-01 -6.03470629e-01 -6.03470629e-01 ...  1.94629767e+00\n",
      "   1.94629767e+00 -6.03470629e-01]\n",
      " [-2.08341890e-01  1.26155503e+00 -1.18827317e+00 ...  2.81623749e-01\n",
      "   2.81623749e-01  7.71589388e-01]\n",
      " ...\n",
      " [-9.94417216e-05 -1.30297148e-04 -7.91407063e-05 ... -5.59312233e-05\n",
      "  -1.28505949e-04 -1.37063921e-04]\n",
      " [ 1.96108189e-04  1.70760853e-04  8.20451771e-05 ... -4.46915031e-05\n",
      "  -8.27125072e-05 -2.09449187e-04]\n",
      " [ 2.01866538e+00  2.01866538e+00 -1.97705757e+00 ... -1.97705757e+00\n",
      "  -1.97705757e+00  2.01866538e+00]]\n",
      "(70, 11430)\n"
     ]
    }
   ],
   "source": [
    "test_final = np.zeros((70,11430))\n",
    "test_final = np.transpose(t8)\n",
    "test_final = test_final - utr\n",
    "test_final = test_final / norm\n",
    "print(test_final)\n",
    "print(str(test_final.shape))"
   ]
  },
  {
   "cell_type": "markdown",
   "metadata": {},
   "source": [
    "**Predicting \"Criminal\" Values for the test data**"
   ]
  },
  {
   "cell_type": "code",
   "execution_count": 0,
   "metadata": {
    "colab": {
     "autoexec": {
      "startup": false,
      "wait_interval": 0
     }
    },
    "colab_type": "code",
    "collapsed": true,
    "id": "xXAHwvRaOKU7"
   },
   "outputs": [],
   "source": [
    "y8 = predict(test_final,para,layer)"
   ]
  },
  {
   "cell_type": "code",
   "execution_count": 52,
   "metadata": {
    "colab": {
     "autoexec": {
      "startup": false,
      "wait_interval": 0
     },
     "base_uri": "https://localhost:8080/",
     "height": 34,
     "output_extras": [
      {
       "item_id": 1
      }
     ]
    },
    "colab_type": "code",
    "executionInfo": {
     "elapsed": 1004,
     "status": "ok",
     "timestamp": 1522337086145,
     "user": {
      "displayName": "Swastik Mahapatra",
      "photoUrl": "//lh4.googleusercontent.com/-bEYP3sOqCzo/AAAAAAAAAAI/AAAAAAAAAGo/k-AdGrDtfQM/s50-c-k-no/photo.jpg",
      "userId": "108795235609199328859"
     },
     "user_tz": -330
    },
    "id": "Q0EvJ0ynOKjH",
    "outputId": "92acf191-3947-4a17-8d7e-142a63b12e51"
   },
   "outputs": [
    {
     "name": "stdout",
     "output_type": "stream",
     "text": [
      "[[0. 0. 0. ... 0. 0. 0.]]\n"
     ]
    }
   ],
   "source": [
    "print(y8)"
   ]
  },
  {
   "cell_type": "markdown",
   "metadata": {},
   "source": [
    "**Downloading Predictions for submission**"
   ]
  },
  {
   "cell_type": "code",
   "execution_count": 0,
   "metadata": {
    "colab": {
     "autoexec": {
      "startup": false,
      "wait_interval": 0
     }
    },
    "colab_type": "code",
    "collapsed": true,
    "id": "JsEnEib5iC5e"
   },
   "outputs": [],
   "source": [
    "from google.colab import files\n",
    "with open('out20.csv', 'w') as f:\n",
    "  np.savetxt('out20.csv',y8.T,fmt='%.1f',delimiter=',',newline='\\n')\n",
    "\n",
    "files.download('out20.csv')"
   ]
  }
 ],
 "metadata": {
  "accelerator": "GPU",
  "colab": {
   "collapsed_sections": [],
   "default_view": {},
   "name": "criminalprediction1234.ipynb",
   "provenance": [],
   "version": "0.3.2",
   "views": {}
  },
  "kernelspec": {
   "display_name": "Python 3",
   "language": "python",
   "name": "python3"
  },
  "language_info": {
   "codemirror_mode": {
    "name": "ipython",
    "version": 3
   },
   "file_extension": ".py",
   "mimetype": "text/x-python",
   "name": "python",
   "nbconvert_exporter": "python",
   "pygments_lexer": "ipython3",
   "version": "3.6.3"
  }
 },
 "nbformat": 4,
 "nbformat_minor": 1
}
